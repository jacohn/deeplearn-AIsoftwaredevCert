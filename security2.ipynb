{
 "cells": [
  {
   "cell_type": "code",
   "execution_count": 1,
   "metadata": {
    "colab": {
     "base_uri": "https://localhost:8080/"
    },
    "executionInfo": {
     "elapsed": 14108,
     "status": "ok",
     "timestamp": 1721419658381,
     "user": {
      "displayName": "Lucas Coutinho",
      "userId": "17134509355433454861"
     },
     "user_tz": 180
    },
    "id": "D1y5egQUYnK8",
    "outputId": "65db0502-611b-4c1c-8620-57a18f797ab1"
   },
   "outputs": [
    {
     "name": "stdout",
     "output_type": "stream",
     "text": [
      "Collecting flask_marshmallow\n",
      "  Using cached flask_marshmallow-1.2.1-py3-none-any.whl.metadata (5.2 kB)\n",
      "Collecting flask_sqlalchemy\n",
      "  Using cached flask_sqlalchemy-3.1.1-py3-none-any.whl.metadata (3.4 kB)\n",
      "Requirement already satisfied: Flask>=2.2 in /opt/anaconda3/lib/python3.12/site-packages (from flask_marshmallow) (3.0.3)\n",
      "Collecting marshmallow>=3.0.0 (from flask_marshmallow)\n",
      "  Using cached marshmallow-3.23.1-py3-none-any.whl.metadata (7.5 kB)\n",
      "Requirement already satisfied: sqlalchemy>=2.0.16 in /opt/anaconda3/lib/python3.12/site-packages (from flask_sqlalchemy) (2.0.34)\n",
      "Requirement already satisfied: Werkzeug>=3.0.0 in /opt/anaconda3/lib/python3.12/site-packages (from Flask>=2.2->flask_marshmallow) (3.0.3)\n",
      "Requirement already satisfied: Jinja2>=3.1.2 in /opt/anaconda3/lib/python3.12/site-packages (from Flask>=2.2->flask_marshmallow) (3.1.4)\n",
      "Requirement already satisfied: itsdangerous>=2.1.2 in /opt/anaconda3/lib/python3.12/site-packages (from Flask>=2.2->flask_marshmallow) (2.2.0)\n",
      "Requirement already satisfied: click>=8.1.3 in /opt/anaconda3/lib/python3.12/site-packages (from Flask>=2.2->flask_marshmallow) (8.1.7)\n",
      "Requirement already satisfied: blinker>=1.6.2 in /opt/anaconda3/lib/python3.12/site-packages (from Flask>=2.2->flask_marshmallow) (1.6.2)\n",
      "Requirement already satisfied: packaging>=17.0 in /opt/anaconda3/lib/python3.12/site-packages (from marshmallow>=3.0.0->flask_marshmallow) (24.1)\n",
      "Requirement already satisfied: typing-extensions>=4.6.0 in /opt/anaconda3/lib/python3.12/site-packages (from sqlalchemy>=2.0.16->flask_sqlalchemy) (4.11.0)\n",
      "Requirement already satisfied: MarkupSafe>=2.0 in /opt/anaconda3/lib/python3.12/site-packages (from Jinja2>=3.1.2->Flask>=2.2->flask_marshmallow) (2.1.3)\n",
      "Using cached flask_marshmallow-1.2.1-py3-none-any.whl (12 kB)\n",
      "Using cached flask_sqlalchemy-3.1.1-py3-none-any.whl (25 kB)\n",
      "Using cached marshmallow-3.23.1-py3-none-any.whl (49 kB)\n",
      "Installing collected packages: marshmallow, flask_sqlalchemy, flask_marshmallow\n",
      "Successfully installed flask_marshmallow-1.2.1 flask_sqlalchemy-3.1.1 marshmallow-3.23.1\n",
      "Requirement already satisfied: marshmallow in /opt/anaconda3/lib/python3.12/site-packages (3.23.1)\n",
      "Collecting marshmallow-sqlalchemy\n",
      "  Using cached marshmallow_sqlalchemy-1.1.0-py3-none-any.whl.metadata (6.3 kB)\n",
      "Requirement already satisfied: packaging>=17.0 in /opt/anaconda3/lib/python3.12/site-packages (from marshmallow) (24.1)\n",
      "Requirement already satisfied: SQLAlchemy<3.0,>=1.4.40 in /opt/anaconda3/lib/python3.12/site-packages (from marshmallow-sqlalchemy) (2.0.34)\n",
      "Requirement already satisfied: typing-extensions>=4.6.0 in /opt/anaconda3/lib/python3.12/site-packages (from SQLAlchemy<3.0,>=1.4.40->marshmallow-sqlalchemy) (4.11.0)\n",
      "Using cached marshmallow_sqlalchemy-1.1.0-py3-none-any.whl (14 kB)\n",
      "Installing collected packages: marshmallow-sqlalchemy\n",
      "Successfully installed marshmallow-sqlalchemy-1.1.0\n"
     ]
    }
   ],
   "source": [
    "!pip install flask_marshmallow flask_sqlalchemy\n",
    "!pip install marshmallow marshmallow-sqlalchemy"
   ]
  },
  {
   "cell_type": "code",
   "execution_count": null,
   "metadata": {},
   "outputs": [],
   "source": []
  },
  {
   "cell_type": "code",
   "execution_count": null,
   "metadata": {
    "colab": {
     "base_uri": "https://localhost:8080/"
    },
    "executionInfo": {
     "elapsed": 2183,
     "status": "ok",
     "timestamp": 1717910438171,
     "user": {
      "displayName": "Laurence Moroney",
      "userId": "17858265307580721507"
     },
     "user_tz": 420
    },
    "id": "ymuWi9V1YeWl",
    "outputId": "56653516-0eae-4a1a-bcd3-c94e7ee9f80a"
   },
   "outputs": [
    {
     "name": "stdout",
     "output_type": "stream",
     "text": [
      " * Serving Flask app '__main__'\n",
      " * Debug mode: off\n"
     ]
    },
    {
     "name": "stderr",
     "output_type": "stream",
     "text": [
      "\u001b[31m\u001b[1mWARNING: This is a development server. Do not use it in a production deployment. Use a production WSGI server instead.\u001b[0m\n",
      " * Running on all addresses (0.0.0.0)\n",
      " * Running on http://127.0.0.1:6000\n",
      " * Running on http://192.168.4.43:6000\n",
      "\u001b[33mPress CTRL+C to quit\u001b[0m\n",
      "/var/folders/65/7lvj5svs2vg120d03dcl6w400000gn/T/ipykernel_84006/379261585.py:70: LegacyAPIWarning: The Query.get() method is considered legacy as of the 1.x series of SQLAlchemy and becomes a legacy construct in 2.0. The method is now available as Session.get() (deprecated since: 2.0) (Background on SQLAlchemy 2.0 at: https://sqlalche.me/e/b8d9)\n",
      "  user = User.query.get(id)\n",
      "127.0.0.1 - - [13/Nov/2024 15:45:35] \"\u001b[33mPUT /user/1 HTTP/1.1\u001b[0m\" 404 -\n",
      "/var/folders/65/7lvj5svs2vg120d03dcl6w400000gn/T/ipykernel_84006/379261585.py:44: LegacyAPIWarning: The Query.get() method is considered legacy as of the 1.x series of SQLAlchemy and becomes a legacy construct in 2.0. The method is now available as Session.get() (deprecated since: 2.0) (Background on SQLAlchemy 2.0 at: https://sqlalche.me/e/b8d9)\n",
      "  user = User.query.get(id)\n",
      "127.0.0.1 - - [13/Nov/2024 15:45:48] \"\u001b[33mGET /user/1 HTTP/1.1\u001b[0m\" 404 -\n",
      "127.0.0.1 - - [13/Nov/2024 15:46:13] \"\u001b[35m\u001b[1mPOST /user HTTP/1.1\u001b[0m\" 201 -\n",
      "/var/folders/65/7lvj5svs2vg120d03dcl6w400000gn/T/ipykernel_84006/379261585.py:70: LegacyAPIWarning: The Query.get() method is considered legacy as of the 1.x series of SQLAlchemy and becomes a legacy construct in 2.0. The method is now available as Session.get() (deprecated since: 2.0) (Background on SQLAlchemy 2.0 at: https://sqlalche.me/e/b8d9)\n",
      "  user = User.query.get(id)\n",
      "127.0.0.1 - - [13/Nov/2024 15:46:25] \"PUT /user/1 HTTP/1.1\" 200 -\n",
      "127.0.0.1 - - [13/Nov/2024 15:46:37] \"GET /users HTTP/1.1\" 200 -\n",
      "/var/folders/65/7lvj5svs2vg120d03dcl6w400000gn/T/ipykernel_84006/379261585.py:44: LegacyAPIWarning: The Query.get() method is considered legacy as of the 1.x series of SQLAlchemy and becomes a legacy construct in 2.0. The method is now available as Session.get() (deprecated since: 2.0) (Background on SQLAlchemy 2.0 at: https://sqlalche.me/e/b8d9)\n",
      "  user = User.query.get(id)\n",
      "127.0.0.1 - - [13/Nov/2024 15:46:41] \"GET /user/1 HTTP/1.1\" 200 -\n",
      "/var/folders/65/7lvj5svs2vg120d03dcl6w400000gn/T/ipykernel_84006/379261585.py:80: LegacyAPIWarning: The Query.get() method is considered legacy as of the 1.x series of SQLAlchemy and becomes a legacy construct in 2.0. The method is now available as Session.get() (deprecated since: 2.0) (Background on SQLAlchemy 2.0 at: https://sqlalche.me/e/b8d9)\n",
      "  user = User.query.get(id)\n",
      "127.0.0.1 - - [13/Nov/2024 15:46:46] \"DELETE /user/1 HTTP/1.1\" 200 -\n"
     ]
    }
   ],
   "source": [
    "from flask import Flask, request, jsonify\n",
    "from flask_sqlalchemy import SQLAlchemy\n",
    "from marshmallow import Schema, fields, validate, ValidationError\n",
    "from werkzeug.security import generate_password_hash, check_password_hash\n",
    "import threading\n",
    "\n",
    "app = Flask(__name__)\n",
    "app.config['SQLALCHEMY_DATABASE_URI'] = 'sqlite:///users.db'\n",
    "app.config['SQLALCHEMY_TRACK_MODIFICATIONS'] = False\n",
    "db = SQLAlchemy(app)\n",
    "\n",
    "class User(db.Model):\n",
    "    id = db.Column(db.Integer, primary_key=True)\n",
    "    username = db.Column(db.String(80), unique=True, nullable=False)\n",
    "    password = db.Column(db.String(120), nullable=False)\n",
    "\n",
    "class UserSchema(Schema):\n",
    "    id = fields.Int(dump_only=True)\n",
    "    username = fields.Str(required=True, validate=validate.Length(min=1, max=80))\n",
    "    password = fields.Str(required=True, validate=validate.Length(min=6))\n",
    "\n",
    "user_schema = UserSchema()\n",
    "users_schema = UserSchema(many=True)\n",
    "\n",
    "with app.app_context():\n",
    "    db.create_all()\n",
    "\n",
    "@app.route('/')\n",
    "def home():\n",
    "    return \"Welcome to the Security Testing Demo!\"\n",
    "\n",
    "@app.route('/users', methods=['GET'])\n",
    "def get_users():\n",
    "    try:\n",
    "        users = User.query.all()\n",
    "        result =  users_schema.dump(users)\n",
    "        return jsonify(result)\n",
    "    except Exception as e:\n",
    "        return jsonify({\"message\": \"An error occurred while fetching users\", \"error\": str(e)}), 500\n",
    "\n",
    "\n",
    "@app.route('/user/<int:id>', methods=['GET'])\n",
    "def get_user(id):\n",
    "    user = User.query.get(id)\n",
    "    if user:\n",
    "      result = user_schema.dump(user)\n",
    "      return jsonify(result)\n",
    "    return jsonify({\"message\": \"User not found\"}), 404\n",
    "\n",
    "@app.route('/user', methods=['POST'])\n",
    "def add_user():\n",
    "    data = request.get_json()\n",
    "    errors = user_schema.validate(data)\n",
    "    if errors:\n",
    "        return jsonify(errors), 400\n",
    "\n",
    "    hashed_password = generate_password_hash(data['password'])\n",
    "    new_user = User(username=data['username'], password=hashed_password)\n",
    "    db.session.add(new_user)\n",
    "    db.session.commit()\n",
    "    return jsonify({\"message\": \"User added successfully\"}), 201\n",
    "\n",
    "@app.route('/user/<int:id>', methods=['PUT'])\n",
    "def update_user(id):\n",
    "    data = request.get_json()\n",
    "    errors = user_schema.validate(data)\n",
    "    if errors:\n",
    "        return jsonify(errors), 400\n",
    "\n",
    "    user = User.query.get(id)\n",
    "    if user:\n",
    "        user.username = data['username']\n",
    "        user.password = generate_password_hash(data['password'])\n",
    "        db.session.commit()\n",
    "        return jsonify({\"message\": \"User updated successfully\"})\n",
    "    return jsonify({\"message\": \"User not found\"}), 404\n",
    "\n",
    "@app.route('/user/<int:id>', methods=['DELETE'])\n",
    "def delete_user(id):\n",
    "    user = User.query.get(id)\n",
    "    if user:\n",
    "        db.session.delete(user)\n",
    "        db.session.commit()\n",
    "        return jsonify({\"message\": \"User deleted successfully\"})\n",
    "    return jsonify({\"message\": \"User not found\"}), 404\n",
    "\n",
    "threading.Thread(target=app.run, kwargs={'host':'0.0.0.0','port':6000}).start()\n"
   ]
  },
  {
   "cell_type": "code",
   "execution_count": 11,
   "metadata": {
    "colab": {
     "base_uri": "https://localhost:8080/"
    },
    "executionInfo": {
     "elapsed": 437,
     "status": "ok",
     "timestamp": 1721419586018,
     "user": {
      "displayName": "Lucas Coutinho",
      "userId": "17134509355433454861"
     },
     "user_tz": 180
    },
    "id": "-IrfEuAVaUZB",
    "outputId": "59ce26fa-afb3-4204-d645-998b38757814"
   },
   "outputs": [
    {
     "name": "stdout",
     "output_type": "stream",
     "text": [
      "{\"message\":\"User added successfully\"}\n"
     ]
    }
   ],
   "source": [
    "!curl -X POST http://localhost:6000/user -H \"Content-Type: application/json\" -d '{\"username\":\"testuser\",\"password\":\"securepassword\"}'"
   ]
  },
  {
   "cell_type": "code",
   "execution_count": 14,
   "metadata": {
    "colab": {
     "base_uri": "https://localhost:8080/"
    },
    "executionInfo": {
     "elapsed": 508,
     "status": "ok",
     "timestamp": 1721419631356,
     "user": {
      "displayName": "Lucas Coutinho",
      "userId": "17134509355433454861"
     },
     "user_tz": 180
    },
    "id": "Y6lIaLPGZsKd",
    "outputId": "27d9d12e-d1fa-4241-c39e-21c4bd7b053a"
   },
   "outputs": [
    {
     "name": "stdout",
     "output_type": "stream",
     "text": [
      "[{\"id\":1,\"password\":\"scrypt:32768:8:1$m6HYsAo4pNjRagD6$28e3d41c63a6655bb0f57ef8fa7a6750e30b4f08fbde3b6376436923e6cf7d4c8989f9083024ead130145d41bf667fe85729dc8c451a377e317177c146e0f7d1\",\"username\":\"testuser\"}]\n"
     ]
    }
   ],
   "source": [
    "!curl -X GET http://localhost:6000/users"
   ]
  },
  {
   "cell_type": "code",
   "execution_count": 15,
   "metadata": {
    "colab": {
     "base_uri": "https://localhost:8080/"
    },
    "executionInfo": {
     "elapsed": 420,
     "status": "ok",
     "timestamp": 1721419635035,
     "user": {
      "displayName": "Lucas Coutinho",
      "userId": "17134509355433454861"
     },
     "user_tz": 180
    },
    "id": "hL1oZyHEcZWI",
    "outputId": "f1fa06a3-9af1-444d-f7a3-442c6cbd22ef"
   },
   "outputs": [
    {
     "name": "stdout",
     "output_type": "stream",
     "text": [
      "{\"id\":1,\"password\":\"scrypt:32768:8:1$m6HYsAo4pNjRagD6$28e3d41c63a6655bb0f57ef8fa7a6750e30b4f08fbde3b6376436923e6cf7d4c8989f9083024ead130145d41bf667fe85729dc8c451a377e317177c146e0f7d1\",\"username\":\"testuser\"}\n"
     ]
    }
   ],
   "source": [
    "!curl -X GET http://localhost:6000/user/1"
   ]
  },
  {
   "cell_type": "code",
   "execution_count": 12,
   "metadata": {
    "colab": {
     "base_uri": "https://localhost:8080/"
    },
    "executionInfo": {
     "elapsed": 515,
     "status": "ok",
     "timestamp": 1721419637704,
     "user": {
      "displayName": "Lucas Coutinho",
      "userId": "17134509355433454861"
     },
     "user_tz": 180
    },
    "id": "1E36Bkkhcex3",
    "outputId": "5272994f-8bf4-4f0a-cc7e-a7161bc4614a"
   },
   "outputs": [
    {
     "name": "stdout",
     "output_type": "stream",
     "text": [
      "{\"message\":\"User updated successfully\"}\n"
     ]
    }
   ],
   "source": [
    "!curl -X PUT http://localhost:6000/user/1 -H \"Content-Type: application/json\" -d '{\"username\":\"testuser\",\"password\":\"newsecurepassword\"}'"
   ]
  },
  {
   "cell_type": "code",
   "execution_count": 16,
   "metadata": {
    "colab": {
     "base_uri": "https://localhost:8080/"
    },
    "executionInfo": {
     "elapsed": 550,
     "status": "ok",
     "timestamp": 1721419640477,
     "user": {
      "displayName": "Lucas Coutinho",
      "userId": "17134509355433454861"
     },
     "user_tz": 180
    },
    "id": "SPpuCe9sct_J",
    "outputId": "9c4d3f33-091f-4427-b829-8850f7f44567"
   },
   "outputs": [
    {
     "name": "stdout",
     "output_type": "stream",
     "text": [
      "{\"message\":\"User deleted successfully\"}\n"
     ]
    }
   ],
   "source": [
    "!curl -X DELETE http://localhost:6000/user/1"
   ]
  },
  {
   "cell_type": "code",
   "execution_count": null,
   "metadata": {
    "id": "p_l7j3_MmyoH"
   },
   "outputs": [],
   "source": []
  }
 ],
 "metadata": {
  "colab": {
   "provenance": []
  },
  "kernelspec": {
   "display_name": "Python 3",
   "language": "python",
   "name": "python3"
  },
  "language_info": {
   "codemirror_mode": {
    "name": "ipython",
    "version": 3
   },
   "file_extension": ".py",
   "mimetype": "text/x-python",
   "name": "python",
   "nbconvert_exporter": "python",
   "pygments_lexer": "ipython3",
   "version": "3.10.0"
  }
 },
 "nbformat": 4,
 "nbformat_minor": 0
}
